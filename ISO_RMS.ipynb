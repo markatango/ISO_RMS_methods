{
 "cells": [
  {
   "cell_type": "code",
   "execution_count": 1,
   "metadata": {},
   "outputs": [],
   "source": [
    "import pandas as pd\n",
    "import numpy as np\n",
    "from matplotlib import pyplot as plt\n",
    "%matplotlib inline"
   ]
  },
  {
   "cell_type": "code",
   "execution_count": 2,
   "metadata": {
    "scrolled": true
   },
   "outputs": [],
   "source": [
    "df_mm400 = pd.read_excel(\"./data/MM400_HF2_0_5_5.xlsx\")"
   ]
  },
  {
   "cell_type": "code",
   "execution_count": 41,
   "metadata": {},
   "outputs": [],
   "source": [
    "# df_nrwm = pd.read_excel(\"./data/NRWM_HF2_5_5_5.xlsx\", sheet_name=1)\n",
    "df_nrwm = pd.read_excel(\"./data/NRWM_Dennis_210108.xlsx\", sheet_name=1)\n"
   ]
  },
  {
   "cell_type": "code",
   "execution_count": 42,
   "metadata": {},
   "outputs": [
    {
     "data": {
      "text/html": [
       "<div>\n",
       "<style scoped>\n",
       "    .dataframe tbody tr th:only-of-type {\n",
       "        vertical-align: middle;\n",
       "    }\n",
       "\n",
       "    .dataframe tbody tr th {\n",
       "        vertical-align: top;\n",
       "    }\n",
       "\n",
       "    .dataframe thead th {\n",
       "        text-align: right;\n",
       "    }\n",
       "</style>\n",
       "<table border=\"1\" class=\"dataframe\">\n",
       "  <thead>\n",
       "    <tr style=\"text-align: right;\">\n",
       "      <th></th>\n",
       "      <th>TIME</th>\n",
       "      <th>C</th>\n",
       "    </tr>\n",
       "  </thead>\n",
       "  <tbody>\n",
       "    <tr>\n",
       "      <th>0</th>\n",
       "      <td>0</td>\n",
       "      <td>0.159</td>\n",
       "    </tr>\n",
       "    <tr>\n",
       "      <th>1</th>\n",
       "      <td>50</td>\n",
       "      <td>0.357</td>\n",
       "    </tr>\n",
       "    <tr>\n",
       "      <th>2</th>\n",
       "      <td>100</td>\n",
       "      <td>0.732</td>\n",
       "    </tr>\n",
       "    <tr>\n",
       "      <th>3</th>\n",
       "      <td>150</td>\n",
       "      <td>0.560</td>\n",
       "    </tr>\n",
       "    <tr>\n",
       "      <th>4</th>\n",
       "      <td>200</td>\n",
       "      <td>0.335</td>\n",
       "    </tr>\n",
       "  </tbody>\n",
       "</table>\n",
       "</div>"
      ],
      "text/plain": [
       "   TIME      C\n",
       "0     0  0.159\n",
       "1    50  0.357\n",
       "2   100  0.732\n",
       "3   150  0.560\n",
       "4   200  0.335"
      ]
     },
     "execution_count": 42,
     "metadata": {},
     "output_type": "execute_result"
    }
   ],
   "source": [
    "df_mm400.head()"
   ]
  },
  {
   "cell_type": "code",
   "execution_count": 43,
   "metadata": {},
   "outputs": [
    {
     "data": {
      "text/html": [
       "<div>\n",
       "<style scoped>\n",
       "    .dataframe tbody tr th:only-of-type {\n",
       "        vertical-align: middle;\n",
       "    }\n",
       "\n",
       "    .dataframe tbody tr th {\n",
       "        vertical-align: top;\n",
       "    }\n",
       "\n",
       "    .dataframe thead th {\n",
       "        text-align: right;\n",
       "    }\n",
       "</style>\n",
       "<table border=\"1\" class=\"dataframe\">\n",
       "  <thead>\n",
       "    <tr style=\"text-align: right;\">\n",
       "      <th></th>\n",
       "      <th>TIME</th>\n",
       "      <th>C</th>\n",
       "    </tr>\n",
       "  </thead>\n",
       "  <tbody>\n",
       "    <tr>\n",
       "      <th>0</th>\n",
       "      <td>0</td>\n",
       "      <td>-0.002599</td>\n",
       "    </tr>\n",
       "    <tr>\n",
       "      <th>1</th>\n",
       "      <td>5</td>\n",
       "      <td>-0.007635</td>\n",
       "    </tr>\n",
       "    <tr>\n",
       "      <th>2</th>\n",
       "      <td>10</td>\n",
       "      <td>-0.005685</td>\n",
       "    </tr>\n",
       "    <tr>\n",
       "      <th>3</th>\n",
       "      <td>15</td>\n",
       "      <td>-0.004223</td>\n",
       "    </tr>\n",
       "    <tr>\n",
       "      <th>4</th>\n",
       "      <td>20</td>\n",
       "      <td>-0.014621</td>\n",
       "    </tr>\n",
       "  </tbody>\n",
       "</table>\n",
       "</div>"
      ],
      "text/plain": [
       "   TIME         C\n",
       "0     0 -0.002599\n",
       "1     5 -0.007635\n",
       "2    10 -0.005685\n",
       "3    15 -0.004223\n",
       "4    20 -0.014621"
      ]
     },
     "execution_count": 43,
     "metadata": {},
     "output_type": "execute_result"
    }
   ],
   "source": [
    "df_nrwm.head()"
   ]
  },
  {
   "cell_type": "code",
   "execution_count": 44,
   "metadata": {},
   "outputs": [],
   "source": [
    "# Set configuration constants\n",
    "tTimeBase = 1e-6\n",
    "thresholdHi = 0.9\n",
    "thresholdLo = 0.1"
   ]
  },
  {
   "cell_type": "code",
   "execution_count": 45,
   "metadata": {},
   "outputs": [],
   "source": [
    "# helpers\n",
    "def sq(x): \n",
    "    return x*x\n",
    "\n",
    "\n",
    "def plotResults(**kwargs):\n",
    "    \n",
    "### Plot results ###\n",
    "    \n",
    "#     df = dataFrame of TIME and CURRENT values\n",
    "#     valueField: string -- name of dataFrame field with current values\n",
    "#     timeField: string -- name of dataFrame field with time values\n",
    "#     hiThresholdPoint: tuple (<time>, <value>) -- value of point where instantaneous current crosses the high threshold \n",
    "#     loThresholdPoint: tuple (<time>, <value>) -- value of point where instantaneous current crosses the low threshold\n",
    "#     thresholds: tuple (<high threshold>, <low threshold>) -- threshold values in interval (0 , 1]\n",
    "#     ylimits: tuple (ymin, ymax) -- vertical extents of plot\n",
    "#     title: string\n",
    "\n",
    "    df = kwargs[\"df\"]\n",
    "    trigTime = kwargs[\"trigTime\"]\n",
    "    valueField = kwargs[\"valueField\"]\n",
    "    timeField = kwargs[\"timeField\"]\n",
    "    ISO_RMS = kwargs[\"ISO_RMS\"]\n",
    "    hiThresholdPoint = kwargs[\"hiThresholdPoint\"]\n",
    "    loThresholdPoint = kwargs[\"loThresholdPoint\"]\n",
    "    thresholds = kwargs[\"thresholds\"]\n",
    "    yLimits = kwargs[\"yLimits\"]\n",
    "    title = kwargs[\"title\"]\n",
    "\n",
    "        \n",
    "    xHi, yHi = (hiThresholdPoint[0], hiThresholdPoint[1])\n",
    "    xLo, yLo = (loThresholdPoint[0], loThresholdPoint[1])\n",
    "    \n",
    "    xMin, xMax = 0, df[timeField].values[-1]*tTimeBase\n",
    "    yMin, yMax = yLimits\n",
    "    \n",
    "    threshHi, threshLo = thresholds\n",
    "    \n",
    "    timeScale = 1/tTimeBase\n",
    "\n",
    "    f, ax = plt.subplots(1,1,figsize=(15,10))\n",
    "    \n",
    "    # Plot critical points\n",
    "    ax.plot(xHi,yHi,\"bs\",markersize=10, fillstyle='none')\n",
    "    ax.plot(xLo,yLo,\"gs\",markersize=10, fillstyle='none')\n",
    "    \n",
    "    # Plot some convenience lines and text\n",
    "    ax.hlines([ISO_RMS, threshHi*ISO_RMS, threshLo*ISO_RMS], 0, xMax, linestyles='dashed', colors=[\"blue\", \"red\", \"red\"])\n",
    "    ax.vlines(xHi, 0, yMax - 0.1, linestyles='dashed', colors='red')\n",
    "    ax.vlines(xLo, 0, 0.2, linestyles='dashed', colors='red')\n",
    "    \n",
    "    legend = [\"Qualifying point\", \"Qualifying point\",\n",
    "              f\"ISO RMS\", f\"{thresholds[0]:.0%}\",f\"{thresholds[1]:.0%}\"        ]\n",
    "    ax.legend(legend,loc='best')\n",
    "    \n",
    "    # Plot instantaneous data\n",
    "    ax.plot(df[timeField]*tTimeBase, df[valueField],\"ro\")\n",
    "    ax.plot(df[timeField]*tTimeBase, df[valueField])\n",
    "    \n",
    "    ftitle = title + \"\\n\" + f\"RMS measurement time = {1000*xHi:.3} mSec\\nCurrent flow time = {1000*xLo:.3} mSec\\nISO RMS: {ISO_RMS:.5} kA\"\n",
    "    plt.title(ftitle)\n",
    "    \n",
    "    ax.set_xlabel(\"Time (mSec)\")\n",
    "    ax.set_ylabel(\"Current (kA)\")\n",
    "    \n",
    "    ax.grid()\n",
    "    plt.savefig(f\"figs/ISORMS {title}.png\",bbox_inches=\"tight\")\n",
    "    #plt.show()\n",
    "   # ax.savefig(\"figs/ISORMS.png\",bbox_inches=\"tight\")"
   ]
  },
  {
   "cell_type": "code",
   "execution_count": 52,
   "metadata": {},
   "outputs": [],
   "source": [
    "# main process\n",
    "def calculateISO_RMS(df, trigTime,  valueField, timeField, threshHi, threshLo):\n",
    "    \n",
    "    meanSquare = 0\n",
    "    index = 0\n",
    "    \n",
    "    # Capture and store the points where the instantaneous value crosses the high and low threshold of the RMS value\n",
    "    #  computed up to that point.\n",
    "    # Each point is described by a tuple: (dataPoint_time, dataPoint_value)\n",
    "    candidateHi = (0, 0)\n",
    "    candidateLo = (0, 0)\n",
    "    ISO_meanSquare = 0\n",
    "    trigIndex = df.query(timeField + \"== 5000\").index\n",
    "    print(trigIndex)\n",
    "    dataPoint_last = df.loc[trigIndex,valueField]\n",
    "    \n",
    "    # Read in the data, compute RMS using \"on-line\" method, and test for candidacy \n",
    "    # Dataframe index is continguous integers starting at 0\n",
    "    timeIndex = [t for t in df.index if t >= trigIndex]\n",
    "    for i in timeIndex:\n",
    "        if i > trigIndex:\n",
    "            dataPoint_last = df.loc[i-1,valueField]\n",
    "            dataPoint_next = df.loc[i,valueField]\n",
    "            timeNext = df.loc[i,timeField]*tTimeBase\n",
    "        \n",
    "            meanSquare = 1/i * ((i-1)*meanSquare + sq(dataPoint_next)) # on-line calculation\n",
    "\n",
    "            # We do comparison tests with mean square values to avoid computation burden of doing a square-root each time.\n",
    "            # We capture points that qualify as a high to low transition across the high threshold point.  \n",
    "            # In the case of high ripple or other irregularities in the instantaneous current signal, the last point\n",
    "            #  captured will represent the final transition point.\n",
    "            if np.sign(dataPoint_last)*sq(dataPoint_last) > meanSquare * sq(threshHi) and np.sign(dataPoint_next)*sq(dataPoint_next) < meanSquare * sq(threshHi):\n",
    "                candidateHi = (timeNext, dataPoint_next)\n",
    "                ISO_meanSquare = meanSquare\n",
    "\n",
    "            # For the high to low transistion acrosss the low threshold point, we compare to the last mean square \n",
    "            #  value detected by the last high to low transition across the high threshold point\n",
    "            if np.sign(dataPoint_last)*sq(dataPoint_last)  > ISO_meanSquare * sq(threshLo) and np.sign(dataPoint_next)*sq(dataPoint_next) < ISO_meanSquare * sq(threshLo):\n",
    "                candidateLo =  (timeNext, dataPoint_next)\n",
    "        #print(candidateHi, candidateLo)\n",
    "    ISO_RMS = np.sqrt(ISO_meanSquare)\n",
    "    return ISO_RMS, candidateHi, candidateLo\n",
    "                            "
   ]
  },
  {
   "cell_type": "code",
   "execution_count": 53,
   "metadata": {},
   "outputs": [],
   "source": [
    "df = df_mm400\n",
    "df = df_nrwm\n",
    "\n",
    "field_mm400 = \"C\"\n",
    "field_nrwm = \"C\"\n",
    "\n",
    "timeField_mm400 = 'TIME'\n",
    "timeField_nrwm = 'TIME'\n",
    "\n",
    "TRIG_TIME = 0\n",
    "\n",
    "threshHi = 0.9\n",
    "threshLo = 0.1"
   ]
  },
  {
   "cell_type": "code",
   "execution_count": 54,
   "metadata": {
    "scrolled": true
   },
   "outputs": [
    {
     "name": "stdout",
     "output_type": "stream",
     "text": [
      "Int64Index([1000], dtype='int64')\n",
      "(0.016905, 0.00731)\n"
     ]
    },
    {
     "data": {
      "image/png": "[encoded data removed]",
      "text/plain": [
       "<Figure size 1080x720 with 1 Axes>"
      ]
     },
     "metadata": {
      "needs_background": "light"
     },
     "output_type": "display_data"
    }
   ],
   "source": [
    "# def findEndOfWeldCandidates(df, field, threshHi, threshLo):\n",
    "ISO_RMS, candidateHi, candidateLo = calculateISO_RMS(df, TRIG_TIME, field_mm400,timeField_mm400, threshHi, threshLo)\n",
    "print(candidateLo)\n",
    "# def  plotResults(df, valueField, timeField, hiThresholdPoint, loThresholdPoint, thresholds, ylimits):\n",
    "plotResults(df=df, \n",
    "            trigTime=TRIG_TIME,\n",
    "            valueField=field_mm400, \n",
    "            timeField=timeField_mm400, \n",
    "            ISO_RMS=ISO_RMS, \n",
    "            hiThresholdPoint=candidateHi, \n",
    "            loThresholdPoint=candidateLo, \n",
    "            thresholds=(0.9, 0.1), \n",
    "            yLimits=(0, 0.2),\n",
    "            title=\"NRWM from Dennis\")"
   ]
  },
  {
   "cell_type": "code",
   "execution_count": null,
   "metadata": {},
   "outputs": [],
   "source": []
  },
  {
   "cell_type": "code",
   "execution_count": null,
   "metadata": {},
   "outputs": [],
   "source": []
  },
  {
   "cell_type": "code",
   "execution_count": null,
   "metadata": {},
   "outputs": [],
   "source": []
  },
  {
   "cell_type": "code",
   "execution_count": null,
   "metadata": {},
   "outputs": [],
   "source": []
  },
  {
   "cell_type": "code",
   "execution_count": null,
   "metadata": {},
   "outputs": [],
   "source": []
  }
 ],
 "metadata": {
  "kernelspec": {
   "display_name": "Python 3",
   "language": "python",
   "name": "python3"
  },
  "language_info": {
   "codemirror_mode": {
    "name": "ipython",
    "version": 3
   },
   "file_extension": ".py",
   "mimetype": "text/x-python",
   "name": "python",
   "nbconvert_exporter": "python",
   "pygments_lexer": "ipython3",
   "version": "3.8.3"
  }
 },
 "nbformat": 4,
 "nbformat_minor": 4
}
